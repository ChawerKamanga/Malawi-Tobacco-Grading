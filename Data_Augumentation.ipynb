{
  "nbformat": 4,
  "nbformat_minor": 0,
  "metadata": {
    "colab": {
      "provenance": []
    },
    "kernelspec": {
      "name": "python3",
      "display_name": "Python 3"
    },
    "language_info": {
      "name": "python"
    }
  },
  "cells": [
    {
      "cell_type": "code",
      "execution_count": null,
      "metadata": {
        "id": "ynwt-sJbkcAp"
      },
      "outputs": [],
      "source": [
        "# Importing necessary functions\n",
        "from tensorflow.keras.utils import array_to_img, img_to_array, load_img\n",
        "from keras.preprocessing.image import ImageDataGenerator"
      ]
    },
    {
      "cell_type": "code",
      "source": [
        "# Initialising the ImageDataGenerator class.\n",
        "# We will pass in the augmentation parameters in the constructor.\n",
        "datagen = ImageDataGenerator(\n",
        "        rotation_range = 40,\n",
        "        shear_range = 0.2,\n",
        "        zoom_range = 0.2,\n",
        "        horizontal_flip = True,\n",
        "        brightness_range = (0.5, 1.5))"
      ],
      "metadata": {
        "id": "YhuET7IIk3M4"
      },
      "execution_count": null,
      "outputs": []
    },
    {
      "cell_type": "code",
      "source": [
        "# load all the images in an array\n",
        "images = [\n",
        "    'Picaroon-Binder-sm.jpg',\n",
        "    'Red-Herring-100-100.jpg',\n",
        "    'Red-Herring.jpg',\n",
        "    'TLS-Product_0005_Fire-Cured.jpg',\n",
        "    'TN-KY-Dark-Fire-Cured-Leaf-1-1.jpg',\n",
        "    'TN-KY-Dark-Fire-Cured-Leaf-2-1.jpg',\n",
        "    'TNKY-DFC-Binder-350-330.jpg',\n",
        "    'Uganda-DAC-Wrapper-Leaves-350-409.jpg',\n",
        "    'Virginia-Light-Fire-Cured-Wrapper.jpg',\n",
        "    'dark-fire-cured-tobacco-leaf-1764084402245.jpg',\n",
        "    'download.jpeg',\n",
        "    'ezgif.com-webp-to-jpg-1.jpg',\n",
        "    'ezgif.com-webp-to-jpg.jpg',\n",
        "    'images-1.jpeg',\n",
        "    'images.jpeg',\n",
        "    'kentucky-dark-fire-cured.jpeg',\n",
        "    'pennsylvaniawrapper-200-267.jpeg',\n",
        "    's-l400-1.jpg',\n",
        "    's-l400-2.jpg',\n",
        "    's-l400.jpg'\n",
        "  ]"
      ],
      "metadata": {
        "id": "GonvCEmCoTiY"
      },
      "execution_count": null,
      "outputs": []
    },
    {
      "cell_type": "code",
      "source": [
        "# load the image\n",
        "for image in images:\n",
        "    img = load_img(image)\n",
        "\n",
        "    # convert it to an array\n",
        "    x = img_to_array(img)\n",
        "\n",
        "    # Reshaping the input image\n",
        "    x = x.reshape((1, ) + x.shape)\n",
        "\n",
        "    # Generating and saving 5 augmented samples\n",
        "    # using the above defined parameters.\n",
        "    i = 0\n",
        "    for batch in datagen.flow(x, batch_size = 1, save_to_dir ='preview', save_prefix ='image', save_format ='jpeg'):\n",
        "        i += 1\n",
        "        if i > 5:\n",
        "            break"
      ],
      "metadata": {
        "id": "vX-kWIvwr3si"
      },
      "execution_count": null,
      "outputs": []
    },
    {
      "cell_type": "code",
      "source": [
        "!zip -r /content/preview.zip /content/preview"
      ],
      "metadata": {
        "colab": {
          "base_uri": "https://localhost:8080/"
        },
        "id": "CMOs7q4ruAZL",
        "outputId": "698248a2-3153-4549-d8f7-c57ed6a18536"
      },
      "execution_count": null,
      "outputs": [
        {
          "output_type": "stream",
          "name": "stdout",
          "text": [
            "  adding: content/preview/ (stored 0%)\n",
            "  adding: content/preview/image_0_7100.jpeg (deflated 6%)\n",
            "  adding: content/preview/image_0_5242.jpeg (deflated 5%)\n",
            "  adding: content/preview/image_0_8471.jpeg (deflated 8%)\n",
            "  adding: content/preview/image_0_5927.jpeg (deflated 6%)\n",
            "  adding: content/preview/image_0_3535.jpeg (deflated 2%)\n",
            "  adding: content/preview/image_0_3698.jpeg (deflated 7%)\n",
            "  adding: content/preview/image_0_8891.jpeg (deflated 1%)\n",
            "  adding: content/preview/image_0_7565.jpeg (deflated 5%)\n",
            "  adding: content/preview/image_0_3138.jpeg (deflated 5%)\n",
            "  adding: content/preview/image_0_3267.jpeg (deflated 6%)\n",
            "  adding: content/preview/image_0_5349.jpeg (deflated 1%)\n",
            "  adding: content/preview/image_0_2358.jpeg (deflated 10%)\n",
            "  adding: content/preview/image_0_5822.jpeg (deflated 10%)\n",
            "  adding: content/preview/image_0_8971.jpeg (deflated 5%)\n",
            "  adding: content/preview/image_0_7483.jpeg (deflated 13%)\n",
            "  adding: content/preview/image_0_5313.jpeg (deflated 3%)\n",
            "  adding: content/preview/image_0_4968.jpeg (deflated 4%)\n",
            "  adding: content/preview/image_0_5712.jpeg (deflated 4%)\n",
            "  adding: content/preview/image_0_4160.jpeg (deflated 6%)\n",
            "  adding: content/preview/image_0_5914.jpeg (deflated 1%)\n",
            "  adding: content/preview/image_0_1292.jpeg (deflated 8%)\n",
            "  adding: content/preview/image_0_4524.jpeg (deflated 1%)\n",
            "  adding: content/preview/image_0_8887.jpeg (deflated 6%)\n",
            "  adding: content/preview/image_0_6455.jpeg (deflated 7%)\n",
            "  adding: content/preview/image_0_5193.jpeg (deflated 13%)\n",
            "  adding: content/preview/image_0_7857.jpeg (deflated 11%)\n",
            "  adding: content/preview/image_0_8199.jpeg (deflated 8%)\n",
            "  adding: content/preview/image_0_7348.jpeg (deflated 10%)\n",
            "  adding: content/preview/image_0_1688.jpeg (deflated 8%)\n",
            "  adding: content/preview/image_0_5528.jpeg (deflated 12%)\n",
            "  adding: content/preview/image_0_3183.jpeg (deflated 6%)\n",
            "  adding: content/preview/image_0_4622.jpeg (deflated 5%)\n",
            "  adding: content/preview/image_0_3652.jpeg (deflated 6%)\n",
            "  adding: content/preview/image_0_9680.jpeg (deflated 6%)\n",
            "  adding: content/preview/image_0_276.jpeg (deflated 7%)\n",
            "  adding: content/preview/image_0_2873.jpeg (deflated 1%)\n",
            "  adding: content/preview/image_0_1150.jpeg (deflated 6%)\n",
            "  adding: content/preview/image_0_2337.jpeg (deflated 5%)\n",
            "  adding: content/preview/image_0_9385.jpeg (deflated 17%)\n",
            "  adding: content/preview/image_0_8703.jpeg (deflated 3%)\n",
            "  adding: content/preview/image_0_8880.jpeg (deflated 8%)\n",
            "  adding: content/preview/image_0_9633.jpeg (deflated 7%)\n",
            "  adding: content/preview/image_0_8498.jpeg (deflated 6%)\n",
            "  adding: content/preview/image_0_5134.jpeg (deflated 15%)\n",
            "  adding: content/preview/image_0_1181.jpeg (deflated 9%)\n",
            "  adding: content/preview/image_0_263.jpeg (deflated 9%)\n",
            "  adding: content/preview/image_0_7374.jpeg (deflated 7%)\n",
            "  adding: content/preview/image_0_9985.jpeg (deflated 5%)\n",
            "  adding: content/preview/image_0_9898.jpeg (deflated 10%)\n",
            "  adding: content/preview/image_0_6180.jpeg (deflated 20%)\n",
            "  adding: content/preview/image_0_998.jpeg (deflated 10%)\n",
            "  adding: content/preview/image_0_8438.jpeg (deflated 1%)\n",
            "  adding: content/preview/image_0_6438.jpeg (deflated 16%)\n",
            "  adding: content/preview/image_0_6383.jpeg (deflated 12%)\n",
            "  adding: content/preview/image_0_3781.jpeg (deflated 3%)\n",
            "  adding: content/preview/image_0_4757.jpeg (deflated 7%)\n",
            "  adding: content/preview/image_0_352.jpeg (deflated 1%)\n",
            "  adding: content/preview/image_0_7650.jpeg (deflated 8%)\n",
            "  adding: content/preview/image_0_9072.jpeg (deflated 9%)\n",
            "  adding: content/preview/image_0_3248.jpeg (deflated 1%)\n",
            "  adding: content/preview/image_0_8499.jpeg (deflated 2%)\n",
            "  adding: content/preview/image_0_8158.jpeg (deflated 1%)\n",
            "  adding: content/preview/image_0_830.jpeg (deflated 5%)\n",
            "  adding: content/preview/image_0_7454.jpeg (deflated 1%)\n",
            "  adding: content/preview/image_0_5082.jpeg (deflated 5%)\n",
            "  adding: content/preview/image_0_5853.jpeg (deflated 6%)\n",
            "  adding: content/preview/image_0_9768.jpeg (deflated 5%)\n",
            "  adding: content/preview/image_0_6809.jpeg (deflated 9%)\n",
            "  adding: content/preview/image_0_5408.jpeg (deflated 5%)\n",
            "  adding: content/preview/image_0_5085.jpeg (deflated 22%)\n",
            "  adding: content/preview/image_0_964.jpeg (deflated 14%)\n",
            "  adding: content/preview/image_0_7034.jpeg (deflated 8%)\n",
            "  adding: content/preview/image_0_6616.jpeg (deflated 6%)\n",
            "  adding: content/preview/image_0_1124.jpeg (deflated 6%)\n",
            "  adding: content/preview/image_0_4399.jpeg (deflated 6%)\n",
            "  adding: content/preview/image_0_4358.jpeg (deflated 6%)\n",
            "  adding: content/preview/image_0_5632.jpeg (deflated 4%)\n",
            "  adding: content/preview/image_0_911.jpeg (deflated 11%)\n",
            "  adding: content/preview/image_0_1750.jpeg (deflated 15%)\n",
            "  adding: content/preview/image_0_7514.jpeg (deflated 7%)\n",
            "  adding: content/preview/image_0_9355.jpeg (deflated 6%)\n",
            "  adding: content/preview/image_0_4477.jpeg (deflated 7%)\n",
            "  adding: content/preview/image_0_5705.jpeg (deflated 1%)\n",
            "  adding: content/preview/image_0_4732.jpeg (deflated 6%)\n",
            "  adding: content/preview/image_0_4834.jpeg (deflated 10%)\n",
            "  adding: content/preview/image_0_4641.jpeg (deflated 7%)\n",
            "  adding: content/preview/image_0_2357.jpeg (deflated 6%)\n",
            "  adding: content/preview/image_0_9043.jpeg (deflated 1%)\n",
            "  adding: content/preview/image_0_256.jpeg (deflated 5%)\n",
            "  adding: content/preview/image_0_2995.jpeg (deflated 5%)\n",
            "  adding: content/preview/image_0_3557.jpeg (deflated 8%)\n",
            "  adding: content/preview/image_0_3927.jpeg (deflated 4%)\n",
            "  adding: content/preview/image_0_7783.jpeg (deflated 6%)\n",
            "  adding: content/preview/image_0_6406.jpeg (deflated 7%)\n",
            "  adding: content/preview/image_0_5680.jpeg (deflated 8%)\n",
            "  adding: content/preview/image_0_9476.jpeg (deflated 19%)\n",
            "  adding: content/preview/image_0_3941.jpeg (deflated 9%)\n",
            "  adding: content/preview/image_0_5412.jpeg (deflated 11%)\n",
            "  adding: content/preview/image_0_5411.jpeg (deflated 1%)\n",
            "  adding: content/preview/image_0_4127.jpeg (deflated 5%)\n",
            "  adding: content/preview/image_0_3727.jpeg (deflated 7%)\n",
            "  adding: content/preview/image_0_8097.jpeg (deflated 7%)\n",
            "  adding: content/preview/image_0_7594.jpeg (deflated 1%)\n",
            "  adding: content/preview/image_0_3188.jpeg (deflated 10%)\n",
            "  adding: content/preview/image_0_1939.jpeg (deflated 16%)\n",
            "  adding: content/preview/image_0_2526.jpeg (deflated 9%)\n",
            "  adding: content/preview/image_0_4386.jpeg (deflated 7%)\n",
            "  adding: content/preview/image_0_4278.jpeg (deflated 7%)\n",
            "  adding: content/preview/image_0_3361.jpeg (deflated 5%)\n",
            "  adding: content/preview/image_0_4773.jpeg (deflated 7%)\n",
            "  adding: content/preview/image_0_9689.jpeg (deflated 1%)\n",
            "  adding: content/preview/image_0_688.jpeg (deflated 13%)\n",
            "  adding: content/preview/image_0_109.jpeg (deflated 9%)\n",
            "  adding: content/preview/image_0_7106.jpeg (deflated 8%)\n",
            "  adding: content/preview/image_0_9475.jpeg (deflated 1%)\n",
            "  adding: content/preview/image_0_6154.jpeg (deflated 6%)\n",
            "  adding: content/preview/image_0_2063.jpeg (deflated 5%)\n",
            "  adding: content/preview/image_0_2607.jpeg (deflated 8%)\n",
            "  adding: content/preview/image_0_6949.jpeg (deflated 11%)\n",
            "  adding: content/preview/image_0_2676.jpeg (deflated 1%)\n"
          ]
        }
      ]
    },
    {
      "cell_type": "code",
      "source": [
        "from google.colab import files\n",
        "files.download(\"/content/preview.zip\")"
      ],
      "metadata": {
        "colab": {
          "base_uri": "https://localhost:8080/",
          "height": 34
        },
        "id": "vTXxHivmuMgD",
        "outputId": "bea13f5c-2d6e-4265-fc18-e1bbc8f1f6b6"
      },
      "execution_count": null,
      "outputs": [
        {
          "output_type": "display_data",
          "data": {
            "text/plain": [
              "<IPython.core.display.Javascript object>"
            ],
            "application/javascript": [
              "\n",
              "    async function download(id, filename, size) {\n",
              "      if (!google.colab.kernel.accessAllowed) {\n",
              "        return;\n",
              "      }\n",
              "      const div = document.createElement('div');\n",
              "      const label = document.createElement('label');\n",
              "      label.textContent = `Downloading \"${filename}\": `;\n",
              "      div.appendChild(label);\n",
              "      const progress = document.createElement('progress');\n",
              "      progress.max = size;\n",
              "      div.appendChild(progress);\n",
              "      document.body.appendChild(div);\n",
              "\n",
              "      const buffers = [];\n",
              "      let downloaded = 0;\n",
              "\n",
              "      const channel = await google.colab.kernel.comms.open(id);\n",
              "      // Send a message to notify the kernel that we're ready.\n",
              "      channel.send({})\n",
              "\n",
              "      for await (const message of channel.messages) {\n",
              "        // Send a message to notify the kernel that we're ready.\n",
              "        channel.send({})\n",
              "        if (message.buffers) {\n",
              "          for (const buffer of message.buffers) {\n",
              "            buffers.push(buffer);\n",
              "            downloaded += buffer.byteLength;\n",
              "            progress.value = downloaded;\n",
              "          }\n",
              "        }\n",
              "      }\n",
              "      const blob = new Blob(buffers, {type: 'application/binary'});\n",
              "      const a = document.createElement('a');\n",
              "      a.href = window.URL.createObjectURL(blob);\n",
              "      a.download = filename;\n",
              "      div.appendChild(a);\n",
              "      a.click();\n",
              "      div.remove();\n",
              "    }\n",
              "  "
            ]
          },
          "metadata": {}
        },
        {
          "output_type": "display_data",
          "data": {
            "text/plain": [
              "<IPython.core.display.Javascript object>"
            ],
            "application/javascript": [
              "download(\"download_db1ed2b7-7e5d-40c8-ba1e-d5c5a8023576\", \"preview.zip\", 3137523)"
            ]
          },
          "metadata": {}
        }
      ]
    },
    {
      "cell_type": "code",
      "source": [
        "!rm -rf preview"
      ],
      "metadata": {
        "id": "_Z2pl5BVjx8F"
      },
      "execution_count": null,
      "outputs": []
    }
  ]
}