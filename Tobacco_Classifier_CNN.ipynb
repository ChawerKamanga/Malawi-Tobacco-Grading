{
  "nbformat": 4,
  "nbformat_minor": 0,
  "metadata": {
    "colab": {
      "provenance": []
    },
    "kernelspec": {
      "name": "python3",
      "display_name": "Python 3"
    },
    "language_info": {
      "name": "python"
    }
  },
  "cells": [
    {
      "cell_type": "markdown",
      "source": [
        "# Tobacco CNN"
      ],
      "metadata": {
        "id": "IidOwWcBsx8F"
      }
    },
    {
      "cell_type": "code",
      "execution_count": null,
      "metadata": {
        "id": "d5fwiA75nExR"
      },
      "outputs": [],
      "source": [
        "import tensorflow as tf\n",
        "import os\n",
        "import gdown\n",
        "import zipfile"
      ]
    },
    {
      "cell_type": "code",
      "source": [
        "# Google Drive file ID\n",
        "file_id = '1NHF-Cxboa16uSg7c265FufvHrTOvGr2N'\n",
        "\n",
        "# Output file path\n",
        "output_zip = '/content/Tobacco_Data.zip'\n",
        "\n",
        "# Download the file from Google Drive\n",
        "url = f'https://drive.google.com/uc?id={file_id}'\n",
        "gdown.download(url, output_zip, quiet=False)\n",
        "\n",
        "# Extract the zip file\n",
        "with zipfile.ZipFile(output_zip, 'r') as zip_ref:\n",
        "    zip_ref.extractall('/content')\n",
        "\n",
        "# Define the base directory\n",
        "base_dir = '/content/Tobacco_Data'\n",
        "\n",
        "# Print the list of extracted files and folders\n",
        "print('Files and folders in the extracted zip:')"
      ],
      "metadata": {
        "colab": {
          "base_uri": "https://localhost:8080/"
        },
        "id": "4K8Y7Sk5zKrt",
        "outputId": "188a789b-9784-4fe3-caf1-1619e34e689e"
      },
      "execution_count": null,
      "outputs": [
        {
          "output_type": "stream",
          "name": "stderr",
          "text": [
            "Downloading...\n",
            "From: https://drive.google.com/uc?id=1NHF-Cxboa16uSg7c265FufvHrTOvGr2N\n",
            "To: /content/Tobacco_Data.zip\n",
            "100%|██████████| 26.6M/26.6M [00:00<00:00, 125MB/s]\n"
          ]
        },
        {
          "output_type": "stream",
          "name": "stdout",
          "text": [
            "Files and folders in the extracted zip:\n"
          ]
        }
      ]
    },
    {
      "cell_type": "markdown",
      "source": [
        "## Image Preprocessing"
      ],
      "metadata": {
        "id": "USoJeCxqspaa"
      }
    },
    {
      "cell_type": "code",
      "source": [
        "IMAGE_SIZE = 224\n",
        "BATCH_SIZE = 64\n",
        "\n",
        "datagen = tf.keras.preprocessing.image.ImageDataGenerator(\n",
        "    rescale = 1./255,\n",
        "    validation_split = 0.2\n",
        ")\n",
        "\n",
        "train_generator = datagen.flow_from_directory(\n",
        "  base_dir,\n",
        "  target_size = (IMAGE_SIZE, IMAGE_SIZE),\n",
        "  batch_size = BATCH_SIZE,\n",
        "  subset = 'training'\n",
        ")\n",
        "\n",
        "val_generator = datagen.flow_from_directory(\n",
        "  base_dir,\n",
        "  target_size = (IMAGE_SIZE, IMAGE_SIZE),\n",
        "  batch_size = BATCH_SIZE,\n",
        "  subset = 'validation'\n",
        ")"
      ],
      "metadata": {
        "colab": {
          "base_uri": "https://localhost:8080/"
        },
        "id": "8AllpHavs_8X",
        "outputId": "aa3a510f-0718-4222-a0db-154b93da81d4"
      },
      "execution_count": null,
      "outputs": [
        {
          "output_type": "stream",
          "name": "stdout",
          "text": [
            "Found 347 images belonging to 3 classes.\n",
            "Found 86 images belonging to 3 classes.\n"
          ]
        }
      ]
    },
    {
      "cell_type": "code",
      "source": [
        "print(train_generator.class_indices)\n",
        "labels = '\\n'.join(sorted(train_generator.class_indices.keys()))\n",
        "with open('labels.txt', 'w') as f:\n",
        "  f.write(labels)"
      ],
      "metadata": {
        "colab": {
          "base_uri": "https://localhost:8080/"
        },
        "id": "4yPjUArLyeAD",
        "outputId": "a16de700-3b8e-4131-a5df-32cd8dbc7bc2"
      },
      "execution_count": null,
      "outputs": [
        {
          "output_type": "stream",
          "name": "stdout",
          "text": [
            "{'Burley': 0, 'Dark Fired': 1, 'Flue Cured': 2}\n"
          ]
        }
      ]
    },
    {
      "cell_type": "code",
      "source": [
        "IMAGE_SHAPE = (IMAGE_SIZE, IMAGE_SIZE, 3)\n",
        "\n",
        "base_model = tf.keras.applications.MobileNetV2(input_shape=IMAGE_SHAPE, include_top=False, weights='imagenet')"
      ],
      "metadata": {
        "colab": {
          "base_uri": "https://localhost:8080/"
        },
        "id": "Sg6tlCqjz4Vq",
        "outputId": "8dacd5aa-1886-46b0-fa14-7ff258e4a872"
      },
      "execution_count": null,
      "outputs": [
        {
          "output_type": "stream",
          "name": "stdout",
          "text": [
            "Downloading data from https://storage.googleapis.com/tensorflow/keras-applications/mobilenet_v2/mobilenet_v2_weights_tf_dim_ordering_tf_kernels_1.0_224_no_top.h5\n",
            "9406464/9406464 [==============================] - 0s 0us/step\n"
          ]
        }
      ]
    },
    {
      "cell_type": "code",
      "source": [
        "base_model.trainable = False"
      ],
      "metadata": {
        "id": "4h8gqfRe6Zry"
      },
      "execution_count": null,
      "outputs": []
    },
    {
      "cell_type": "code",
      "source": [
        "model = tf.keras.Sequential([\n",
        "    base_model,\n",
        "    tf.keras.layers.Conv2D(32, 3, activation='relu'),\n",
        "    tf.keras.layers.Dropout(0.2),\n",
        "    tf.keras.layers.GlobalAveragePooling2D(),\n",
        "    tf.keras.layers.Dense(3, activation='softmax')\n",
        "])"
      ],
      "metadata": {
        "id": "VjgDzC767IXl"
      },
      "execution_count": null,
      "outputs": []
    },
    {
      "cell_type": "code",
      "source": [
        "model.compile(optimizer=tf.keras.optimizers.Adam(), loss='categorical_crossentropy', metrics=['accuracy'])"
      ],
      "metadata": {
        "id": "68ZIceJM83cr"
      },
      "execution_count": null,
      "outputs": []
    },
    {
      "cell_type": "code",
      "source": [
        "epochs = 10\n",
        "\n",
        "history = model.fit(train_generator, epochs=epochs, validation_data=val_generator)"
      ],
      "metadata": {
        "colab": {
          "base_uri": "https://localhost:8080/"
        },
        "id": "FfbULLiJ9S0g",
        "outputId": "a8aaa8ac-ebee-4f76-ddc3-1855da1b33df"
      },
      "execution_count": null,
      "outputs": [
        {
          "output_type": "stream",
          "name": "stdout",
          "text": [
            "Epoch 1/10\n",
            "6/6 [==============================] - 39s 6s/step - loss: 1.6991 - accuracy: 0.4928 - val_loss: 0.8895 - val_accuracy: 0.6163\n",
            "Epoch 2/10\n",
            "6/6 [==============================] - 37s 5s/step - loss: 0.7322 - accuracy: 0.6484 - val_loss: 0.6117 - val_accuracy: 0.6860\n",
            "Epoch 3/10\n",
            "6/6 [==============================] - 28s 5s/step - loss: 0.4089 - accuracy: 0.8386 - val_loss: 0.3213 - val_accuracy: 0.8605\n",
            "Epoch 4/10\n",
            "6/6 [==============================] - 27s 5s/step - loss: 0.1906 - accuracy: 0.9308 - val_loss: 0.2350 - val_accuracy: 0.8953\n",
            "Epoch 5/10\n",
            "6/6 [==============================] - 30s 5s/step - loss: 0.0973 - accuracy: 0.9654 - val_loss: 0.1382 - val_accuracy: 0.9419\n",
            "Epoch 6/10\n",
            "6/6 [==============================] - 24s 4s/step - loss: 0.0374 - accuracy: 0.9942 - val_loss: 0.1449 - val_accuracy: 0.9651\n",
            "Epoch 7/10\n",
            "6/6 [==============================] - 25s 4s/step - loss: 0.0277 - accuracy: 0.9971 - val_loss: 0.1860 - val_accuracy: 0.9302\n",
            "Epoch 8/10\n",
            "6/6 [==============================] - 30s 5s/step - loss: 0.0280 - accuracy: 0.9914 - val_loss: 0.1106 - val_accuracy: 0.9651\n",
            "Epoch 9/10\n",
            "6/6 [==============================] - 25s 4s/step - loss: 0.0241 - accuracy: 1.0000 - val_loss: 0.0801 - val_accuracy: 0.9884\n",
            "Epoch 10/10\n",
            "6/6 [==============================] - 30s 5s/step - loss: 0.0078 - accuracy: 1.0000 - val_loss: 0.1503 - val_accuracy: 0.9186\n"
          ]
        }
      ]
    },
    {
      "cell_type": "code",
      "source": [
        "saved_model_dir = ''\n",
        "tf.saved_model.save(model, saved_model_dir)\n",
        "\n",
        "converter = tf.lite.TFLiteConverter.from_saved_model(saved_model_dir)\n",
        "tflite_model = converter.convert()\n",
        "\n",
        "with open('model_tflite', 'wb') as f:\n",
        "  f.write(tflite_model)"
      ],
      "metadata": {
        "colab": {
          "base_uri": "https://localhost:8080/"
        },
        "id": "AV5g5uknByJw",
        "outputId": "87d16cf3-f464-4fda-f7fe-0358add311bd"
      },
      "execution_count": null,
      "outputs": [
        {
          "output_type": "stream",
          "name": "stderr",
          "text": [
            "WARNING:absl:Function `_wrapped_model` contains input name(s) mobilenetv2_1.00_224_input with unsupported characters which will be renamed to mobilenetv2_1_00_224_input in the SavedModel.\n",
            "WARNING:absl:`mobilenetv2_1.00_224_input` is not a valid tf.function parameter name. Sanitizing to `mobilenetv2_1_00_224_input`.\n",
            "WARNING:absl:`mobilenetv2_1.00_224_input` is not a valid tf.function parameter name. Sanitizing to `mobilenetv2_1_00_224_input`.\n",
            "WARNING:absl:`mobilenetv2_1.00_224_input` is not a valid tf.function parameter name. Sanitizing to `mobilenetv2_1_00_224_input`.\n",
            "WARNING:absl:Found untraced functions such as _jit_compiled_convolution_op, _update_step_xla, _jit_compiled_convolution_op, _jit_compiled_convolution_op, _jit_compiled_convolution_op while saving (showing 5 of 54). These functions will not be directly callable after loading.\n",
            "WARNING:absl:Function `signature_wrapper` contains input name(s) mobilenetv2_1.00_224_input with unsupported characters which will be renamed to mobilenetv2_1_00_224_input in the SavedModel.\n",
            "WARNING:absl:`mobilenetv2_1.00_224_input` is not a valid tf.function parameter name. Sanitizing to `mobilenetv2_1_00_224_input`.\n",
            "WARNING:absl:`mobilenetv2_1.00_224_input` is not a valid tf.function parameter name. Sanitizing to `mobilenetv2_1_00_224_input`.\n",
            "WARNING:absl:Found untraced functions such as restored_function_body, restored_function_body, restored_function_body, restored_function_body, restored_function_body while saving (showing 5 of 54). These functions will not be directly callable after loading.\n"
          ]
        }
      ]
    }
  ]
}